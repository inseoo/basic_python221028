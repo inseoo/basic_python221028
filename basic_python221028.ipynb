{
  "nbformat": 4,
  "nbformat_minor": 0,
  "metadata": {
    "colab": {
      "provenance": [],
      "authorship_tag": "ABX9TyMtGXhi+O/Sb/zNPFrpnyyn",
      "include_colab_link": true
    },
    "kernelspec": {
      "name": "python3",
      "display_name": "Python 3"
    },
    "language_info": {
      "name": "python"
    }
  },
  "cells": [
    {
      "cell_type": "markdown",
      "metadata": {
        "id": "view-in-github",
        "colab_type": "text"
      },
      "source": [
        "<a href=\"https://colab.research.google.com/github/inseoo/basic_python221028/blob/main/basic_python221028.ipynb\" target=\"_parent\"><img src=\"https://colab.research.google.com/assets/colab-badge.svg\" alt=\"Open In Colab\"/></a>"
      ]
    },
    {
      "cell_type": "markdown",
      "source": [
        "1. 사용자로부터 두 개의 정수를 받아서 정수의 합, 정수의 차, 정수의 곱, 정수의 펑균, 큰 \n",
        "수, 작은 수를 계산하여 화면에 출럭하는 프로그램을 작성하라. 파이썬이 제공하는 내 장 함수 max(x, y), min(x, y)을 사용해보자."
      ],
      "metadata": {
        "id": "8k3tLGKIeM7t"
      }
    },
    {
      "cell_type": "code",
      "execution_count": 1,
      "metadata": {
        "colab": {
          "base_uri": "https://localhost:8080/"
        },
        "id": "afwqGbpcW3pG",
        "outputId": "b528dc09-de07-4642-d994-9f56b1d57974"
      },
      "outputs": [
        {
          "output_type": "stream",
          "name": "stdout",
          "text": [
            "x의 값은?:9\n",
            "y의 값은?:6\n",
            "두 수의 합은: 15\n",
            "두 수의 차는: 3\n",
            "두 수의 곱은: 54\n",
            "두 수의 평균은: 7.5\n",
            "큰 수는?: 9\n",
            "작은 수는?: 6\n"
          ]
        }
      ],
      "source": [
        "x=int(input(\"x의 값은?:\"))\n",
        "y=int(input(\"y의 값은?:\"))\n",
        "\n",
        "print(\"두 수의 합은:\", x+y)\n",
        "print(\"두 수의 차는:\", x-y)\n",
        "print(\"두 수의 곱은:\", x*y)\n",
        "print(\"두 수의 평균은:\", (x+y)/2)\n",
        "print(\"큰 수는?:\", max(x,y))\n",
        "print(\"작은 수는?:\", min(x,y))"
      ]
    },
    {
      "cell_type": "markdown",
      "source": [
        "2.원기둥의 부피를 계산하는 프로그램을 작성해보자. 원기둥의 부피는 다옴과 같이 계산 한다."
      ],
      "metadata": {
        "id": "CT7SrJlWeodn"
      }
    },
    {
      "cell_type": "code",
      "source": [
        " r=float(input(\"r의 값은?:\"))\n",
        " h=float(input(\"h의 값은?:\"))\n",
        "\n",
        " vol=3.141592*r**2*h\n",
        " print(\"원기둥의부피:\",vol)"
      ],
      "metadata": {
        "colab": {
          "base_uri": "https://localhost:8080/"
        },
        "id": "6Ns0-4CgcgCX",
        "outputId": "6d14ef7f-64d4-4e06-eb37-c29016f02721"
      },
      "execution_count": 4,
      "outputs": [
        {
          "output_type": "stream",
          "name": "stdout",
          "text": [
            "r의 값은?:10\n",
            "h의 값은?:10\n",
            "원기둥의부피: 3141.592\n"
          ]
        }
      ]
    },
    {
      "cell_type": "markdown",
      "source": [
        "3.사용자로부터 정수를 받아서 내 정수의 자리수의 합을 계산하는 프로그램을 작성하여 보 \n",
        "자. 예릍 들어서 사용자가 1234를 입럭하였다면 1+2+3+4를 계산하면 된다. 나머지 연 산자와 정수 나눗셈 연산자 //를 적극적으로 사용해보자. (단, 자리수는 number % 10으로 계산할 수 있다. 10의 자리수는 number = number//10한 후 에 동일한 처리를 되풀이 한다. 단 반복문은 사용하지 않는다.)"
      ],
      "metadata": {
        "id": "JEXX42hGew6-"
      }
    },
    {
      "cell_type": "code",
      "source": [
        "number=int(input(\"정수를 입력하시오.:\"))\n",
        "\n",
        "sum=0\n",
        "sum=sum+number%10\n",
        "number=number//10\n",
        "\n",
        "sum=sum+number%10\n",
        "number=number//10\n",
        "\n",
        "sum=sum+number%10\n",
        "number=number//10\n",
        "\n",
        "sum=sum+number%10\n",
        "number=number//10\n",
        "\n",
        "print(\"자리 수의 합은?:\", str(sum))"
      ],
      "metadata": {
        "colab": {
          "base_uri": "https://localhost:8080/"
        },
        "id": "8VofQk3aeuu2",
        "outputId": "1cafd367-ef0f-47dd-8129-da06b515e7e4"
      },
      "execution_count": 5,
      "outputs": [
        {
          "output_type": "stream",
          "name": "stdout",
          "text": [
            "정수를 입력하시오.:1234\n",
            "자리 수의 합은?: 10\n"
          ]
        }
      ]
    },
    {
      "cell_type": "markdown",
      "source": [
        "4.사용자로부터 두 점의 좌표 (x1, y1)과 (x2, y2)를 입럭받아서 두 점 사이의 거리를 계산하는 프로그램을 작성해보자. 스크립트 모드로 작성하라. 거리는 다옴 식으로 계산 \n",
        "한다. "
      ],
      "metadata": {
        "id": "b5tKWqeWhIo2"
      }
    },
    {
      "cell_type": "code",
      "source": [
        "x1=int(input(\"x1의 값을 입력하시오.:\"))\n",
        "x2=int(input(\"y1의 값을 입력하시오.:\"))\n",
        "y1=int(input(\"x2의 값을 입력하시오.:\"))\n",
        "y2=int(input(\"y2의 값을 입력하시오.:\"))\n",
        "dist=((x2-x1)**2+(y2-y1)**2)**0.5\n",
        "print(\"두 점의 사이의 거리는?:\", dist, \"입니다.\")"
      ],
      "metadata": {
        "colab": {
          "base_uri": "https://localhost:8080/"
        },
        "id": "adVhVt5DhdJx",
        "outputId": "6e8a26fc-42ae-402a-d663-c302cb1e67e5"
      },
      "execution_count": 9,
      "outputs": [
        {
          "output_type": "stream",
          "name": "stdout",
          "text": [
            "x1의 값을 입력하시오.:0\n",
            "y1의 값을 입력하시오.:100\n",
            "x2의 값을 입력하시오.:0\n",
            "y2의 값을 입력하시오.:100\n",
            "두 점의 사이의 거리는?: 141.4213562373095 입니다.\n"
          ]
        }
      ]
    },
    {
      "cell_type": "markdown",
      "source": [
        "5. 4번 문제에서 계산한 거리가 맞는지, 터틀그 \n",
        "래픽으로 확인해보자. 거북이를 읜쪽으로 45 \n",
        "도회전하여 141만큼 전진시킨다. 다시 거북이 \n",
        "를 (0, 0)으로 이동하고 0도를 가리키게 한 후 \n",
        "에 100만큼 전진하고 왼쪽으로 90도 회전하여 \n",
        "100만큼 전진한다. 화면에 그러진 직선이 일치 \n",
        "하는가? (거북이의 방향을 설정하려면 setheading()을 사옹하는 것이 편리하다. 예를 들어서 0도를 가리키게 하려면 setheading(0)이 된다.)"
      ],
      "metadata": {
        "id": "tF4GRqS4lMM3"
      }
    },
    {
      "cell_type": "code",
      "source": [
        "import turtle\n",
        "t=turtle.Turtle()\n",
        "t.shape(\"turtle\")\n",
        "t.left(45)\n",
        "t.forward(141)\n",
        "t.setheading(0)\n",
        "t.goto(0,0)\n",
        "t.forward(100)\n",
        "t.left(90)\n",
        "t.forward(100)"
      ],
      "metadata": {
        "id": "QYBwa3HMle9K"
      },
      "execution_count": null,
      "outputs": []
    },
    {
      "cell_type": "markdown",
      "source": [
        "6. 사용자로부터 두 점을 입력받아서 터틀그래픽을 이용하여 두 점을 연결하는 직선을 그린다. 직선의 끝점에 직선의 길이를 계산하여 출력해보자. (o(xl, yl)으로 첫 번째 졈으로 OI동, gotO(X2, y2)로 두 번째 점으로 이동하면 된다.)"
      ],
      "metadata": {
        "id": "8FwcaU7qnk3q"
      }
    },
    {
      "cell_type": "code",
      "source": [
        "\n",
        "import turtle\n",
        "t=turtle.Turtle()\n",
        "t.shape(\"turtle\")\n",
        "x1=int(input(\"x1:\"))\n",
        "x1:0\n",
        "y1=int(input(\"y1:\"))\n",
        "y1:0\n",
        "x2=int(input(\"x2:\"))\n",
        "x2:100\n",
        "y2=int(input(\"y2:\"))\n",
        "y2:100\n",
        "dist=((x1-x2)**2+(y1-y2)**2)**0.5\n",
        "t.up()\n",
        "t.goto(x1,y1)\n",
        "t.down()\n",
        "t.goto(x2,y2)\n",
        "t.write(\"점의 길이=\"+str(dist))\n",
        "        \n",
        "\n"
      ],
      "metadata": {
        "id": "tP9dJw5In6Bi"
      },
      "execution_count": null,
      "outputs": []
    }
  ]
}